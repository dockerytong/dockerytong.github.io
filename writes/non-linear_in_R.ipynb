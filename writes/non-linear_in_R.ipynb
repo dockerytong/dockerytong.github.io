{
 "cells": [
  {
   "cell_type": "markdown",
   "metadata": {},
   "source": [
    "# 在R中进行非线性拟合"
   ]
  },
  {
   "cell_type": "markdown",
   "metadata": {},
   "source": [
    "加载所需包"
   ]
  },
  {
   "cell_type": "code",
   "execution_count": 1,
   "metadata": {},
   "outputs": [],
   "source": [
    "suppressPackageStartupMessages(require(ecmisc))\n",
    "suppressPackageStartupMessages(require(FME))"
   ]
  },
  {
   "cell_type": "markdown",
   "metadata": {},
   "source": [
    "## 模型的拟合"
   ]
  },
  {
   "cell_type": "markdown",
   "metadata": {},
   "source": [
    "此处对Monod方程进行拟合"
   ]
  },
  {
   "cell_type": "code",
   "execution_count": 2,
   "metadata": {},
   "outputs": [],
   "source": [
    "# 构建用于拟合的数据集\n",
    "Obs <- data.frame(\n",
    "    x = c(28, 55, 83, 110, 138, 225, 375), # mg COD/l\n",
    "    y = c(0.053, 0.06, 0.112, 0.105, 0.099, 0.122, 0.125)\n",
    ") # 1/hour"
   ]
  },
  {
   "cell_type": "code",
   "execution_count": 3,
   "metadata": {},
   "outputs": [],
   "source": [
    "# 构建模型函数\n",
    "Model <- function(p, x) {\n",
    "    return(data.frame(x = x, y = p[1] * x / (x + p[2])))\n",
    "}\n",
    "# 构建残差函数\n",
    "Residuals <- function(p) (Obs$y - Model(p, Obs$x)$y)"
   ]
  },
  {
   "cell_type": "code",
   "execution_count": 6,
   "metadata": {},
   "outputs": [
    {
     "data": {
      "text/plain": [
       "\n",
       "Parameters:\n",
       "     Estimate Std. Error t value Pr(>|t|)    \n",
       "[1,]  0.14542    0.01564   9.296 0.000242 ***\n",
       "[2,] 49.05292   17.91196   2.739 0.040862 *  \n",
       "---\n",
       "Signif. codes:  0 '***' 0.001 '**' 0.01 '*' 0.05 '.' 0.1 ' ' 1\n",
       "\n",
       "Residual standard error: 0.01278 on 5 degrees of freedom\n",
       "\n",
       "Parameter correlation:\n",
       "       [,1]   [,2]\n",
       "[1,] 1.0000 0.8926\n",
       "[2,] 0.8926 1.0000"
      ]
     },
     "metadata": {},
     "output_type": "display_data"
    }
   ],
   "source": [
    "# 拟合模型\n",
    "sP = modFit(f = Residuals, p = c(0.1, 1))\n",
    "summary(sP)"
   ]
  },
  {
   "cell_type": "markdown",
   "metadata": {},
   "source": [
    "### 绘制模型拟合结果"
   ]
  },
  {
   "cell_type": "code",
   "execution_count": 16,
   "metadata": {},
   "outputs": [
    {
     "data": {
      "image/png": "[encoded data removed]",
      "text/plain": [
       "plot without title"
      ]
     },
     "metadata": {
      "image/png": {
       "height": 350,
       "width": 350
      }
     },
     "output_type": "display_data"
    }
   ],
   "source": [
    "# 生成拟合好的数据\n",
    "times = seq(0, 375, 1)\n",
    "df = data.frame(times, Model(sP$par, times))\n",
    "# 绘图\n",
    "options(repr.plot.width = 3.5, repr.plot.height = 3.5, repr.plot.res = 200)\n",
    "Obs %>%\n",
    "    ggplot(aes(x, y)) +\n",
    "    geom_point() +\n",
    "    geom_line(data = df, aes(times,y), color = 'blue')"
   ]
  },
  {
   "cell_type": "markdown",
   "metadata": {},
   "source": [
    "为了更方便进行拟合，在ecmisc中对FME的拟合函数进行了封装。"
   ]
  },
  {
   "cell_type": "code",
   "execution_count": 19,
   "metadata": {},
   "outputs": [
    {
     "data": {
      "text/plain": [
       "\n",
       "Parameters:\n",
       "     Estimate Std. Error t value Pr(>|t|)    \n",
       "[1,]  0.14542    0.01564   9.296 0.000242 ***\n",
       "[2,] 49.05292   17.91195   2.739 0.040862 *  \n",
       "---\n",
       "Signif. codes:  0 '***' 0.001 '**' 0.01 '*' 0.05 '.' 0.1 ' ' 1\n",
       "\n",
       "Residual standard error: 0.01278 on 5 degrees of freedom\n",
       "\n",
       "Parameter correlation:\n",
       "       [,1]   [,2]\n",
       "[1,] 1.0000 0.8926\n",
       "[2,] 0.8926 1.0000"
      ]
     },
     "metadata": {},
     "output_type": "display_data"
    }
   ],
   "source": [
    "model = function(x, p) {\n",
    "    return(p[1] * x / (x + p[2]))\n",
    "}\n",
    "\n",
    "model_fit(x = Obs$x, y = Obs$y, fun = model, p = c(1, 1)) %>%\n",
    "    summary()"
   ]
  }
 ],
 "metadata": {
  "kernelspec": {
   "display_name": "R",
   "language": "R",
   "name": "ir"
  },
  "language_info": {
   "codemirror_mode": "r",
   "file_extension": ".r",
   "mimetype": "text/x-r-source",
   "name": "R",
   "pygments_lexer": "r",
   "version": "4.1.2"
  },
  "orig_nbformat": 4
 },
 "nbformat": 4,
 "nbformat_minor": 2
}
